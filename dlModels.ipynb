{
  "cells": [
    {
      "cell_type": "markdown",
      "metadata": {
        "id": "IUybmemQcR3v"
      },
      "source": [
        "# ECG data analysis\n",
        "\n",
        "Using the PTB-XL data, this notebook:\n",
        "1. Loads the data\n",
        "2. Explores the metadata,\n",
        "3. Visualizes the signal data in interactive figures\n",
        "4. Summarized a theory and literature review.\n",
        "5. Extracts wave peaks from the 1D signals and visualizes these\n",
        "6. explores the useage of a codebase for multilabel diagnostic classification, to expand on in future instance.\n",
        "\n",
        "**Note:** on the first run, the second call will make the runtime crash to downgrade fastai to an older version."
      ]
    },
    {
      "cell_type": "code",
      "execution_count": 1,
      "metadata": {
        "colab": {
          "base_uri": "https://localhost:8080/"
        },
        "id": "iLsC-CByDld8",
        "outputId": "251579cc-acc8-408a-f847-b07d58493c8f"
      },
      "outputs": [
        {
          "name": "stdout",
          "output_type": "stream",
          "text": [
            "2.0.0+cu117\n",
            "0.15.1+cu117\n"
          ]
        }
      ],
      "source": [
        "# Import torchvision\n",
        "import torch\n",
        "import torchvision\n",
        "from torchvision import datasets\n",
        "from torchvision import transforms\n",
        "from torchvision.transforms import ToTensor\n",
        "\n",
        "# Check versions\n",
        "print(torch.__version__)\n",
        "print(torchvision.__version__)"
      ]
    },
    {
      "cell_type": "code",
      "execution_count": 2,
      "metadata": {
        "id": "oT_1MOmHubMH"
      },
      "outputs": [],
      "source": [
        "## In this cell, set 'show_all_figs = False'\n",
        "## if you want to save RAM for model training:\n",
        "show_all_figs = True"
      ]
    },
    {
      "cell_type": "code",
      "execution_count": 3,
      "metadata": {
        "id": "2_VBRkReUGkA"
      },
      "outputs": [],
      "source": [
        "import torch\n",
        "import pandas as pd\n",
        "import numpy as np\n",
        "import matplotlib.pyplot as plt\n",
        "import seaborn as sns\n",
        "sns.set_style('darkgrid')"
      ]
    },
    {
      "cell_type": "code",
      "execution_count": 4,
      "metadata": {
        "id": "1DeAop4ySOI7"
      },
      "outputs": [],
      "source": [
        "## Import the libraries we will use in our initial exploration:\n",
        "from pathlib import Path\n",
        "import os\n",
        "import requests\n",
        "import zipfile\n",
        "# from google.colab import drive\n",
        "import pandas as pd\n",
        "import numpy as np\n",
        "# import plotly.graph_objects as go\n",
        "# import plotly.express as px\n",
        "import wfdb\n",
        "import ast\n",
        "\n",
        "## Allow \"hot-reloading\" of modules\n",
        "%load_ext autoreload\n",
        "%autoreload 2"
      ]
    },
    {
      "cell_type": "markdown",
      "metadata": {
        "id": "KWnAr54qlC5L"
      },
      "source": [
        "## 1. Loading the data"
      ]
    },
    {
      "cell_type": "code",
      "execution_count": 5,
      "metadata": {
        "colab": {
          "base_uri": "https://localhost:8080/"
        },
        "id": "R90T9YqBcQDW",
        "outputId": "9d43e0b3-a992-4e1e-d0b4-6cacca7f0c3c"
      },
      "outputs": [],
      "source": [
        "data_filepath = 'D:/Test Jupyter/ECG-Classfier-main/data/numpy_data_lead2_cwt/'\n",
        "\n",
        "Y_train = np.load(data_filepath + 'X_train.npy')\n",
        "Z_train = np.load(data_filepath + 'y_train.npy', allow_pickle=True)\n",
        "Y_test = np.load(data_filepath + 'X_test.npy')\n",
        "Z_test = np.load(data_filepath + 'y_test.npy', allow_pickle=True)"
      ]
    },
    {
      "cell_type": "code",
      "execution_count": 6,
      "metadata": {
        "colab": {
          "base_uri": "https://localhost:8080/"
        },
        "id": "W0aIjTqp3M_s",
        "outputId": "dba00015-7890-4bc6-f2e6-9e6d35488496"
      },
      "outputs": [
        {
          "name": "stdout",
          "output_type": "stream",
          "text": [
            "(17441, 100, 100, 3) (17441, 5)\n",
            "(4396, 100, 100, 3) (4396, 5)\n"
          ]
        }
      ],
      "source": [
        "print(Y_train.shape, Z_train.shape)\n",
        "print(Y_test.shape,  Z_test.shape)"
      ]
    },
    {
      "cell_type": "code",
      "execution_count": 38,
      "metadata": {
        "colab": {
          "base_uri": "https://localhost:8080/"
        },
        "id": "Y4HJKqyROJAm",
        "outputId": "69bb182c-3fa8-416a-f4c7-932c3386ecf3"
      },
      "outputs": [
        {
          "data": {
            "text/plain": [
              "array([[[0.26851 , 0.009605, 0.335427],\n",
              "        [0.267004, 0.004874, 0.329415],\n",
              "        [0.267004, 0.004874, 0.329415],\n",
              "        ...,\n",
              "        [0.267004, 0.004874, 0.329415],\n",
              "        [0.267004, 0.004874, 0.329415],\n",
              "        [0.26851 , 0.009605, 0.335427]],\n",
              "\n",
              "       [[0.267004, 0.004874, 0.329415],\n",
              "        [0.269944, 0.014625, 0.341379],\n",
              "        [0.269944, 0.014625, 0.341379],\n",
              "        ...,\n",
              "        [0.26851 , 0.009605, 0.335427],\n",
              "        [0.26851 , 0.009605, 0.335427],\n",
              "        [0.26851 , 0.009605, 0.335427]],\n",
              "\n",
              "       [[0.280267, 0.073417, 0.397163],\n",
              "        [0.271305, 0.019942, 0.347269],\n",
              "        [0.277018, 0.050344, 0.375715],\n",
              "        ...,\n",
              "        [0.274952, 0.037752, 0.364543],\n",
              "        [0.267004, 0.004874, 0.329415],\n",
              "        [0.278791, 0.062145, 0.386592]],\n",
              "\n",
              "       ...,\n",
              "\n",
              "       [[0.19943 , 0.387607, 0.554642],\n",
              "        [0.197636, 0.391528, 0.554969],\n",
              "        [0.1941  , 0.399323, 0.555565],\n",
              "        ...,\n",
              "        [0.147607, 0.511733, 0.557049],\n",
              "        [0.147607, 0.511733, 0.557049],\n",
              "        [0.160665, 0.47854 , 0.558115]],\n",
              "\n",
              "       [[0.206756, 0.371758, 0.553117],\n",
              "        [0.210503, 0.363727, 0.552206],\n",
              "        [0.206756, 0.371758, 0.553117],\n",
              "        ...,\n",
              "        [0.151918, 0.500685, 0.557587],\n",
              "        [0.159194, 0.482237, 0.558073],\n",
              "        [0.166617, 0.463708, 0.558119]],\n",
              "\n",
              "       [[0.201239, 0.38367 , 0.554294],\n",
              "        [0.204903, 0.375746, 0.553533],\n",
              "        [0.203063, 0.379716, 0.553925],\n",
              "        ...,\n",
              "        [0.154815, 0.493313, 0.55784 ],\n",
              "        [0.153364, 0.497   , 0.557724],\n",
              "        [0.160665, 0.47854 , 0.558115]]])"
            ]
          },
          "execution_count": 38,
          "metadata": {},
          "output_type": "execute_result"
        }
      ],
      "source": [
        "Y_train[0]"
      ]
    },
    {
      "cell_type": "code",
      "execution_count": 7,
      "metadata": {
        "id": "fEO1a_Q3CIC0"
      },
      "outputs": [],
      "source": [
        "from sklearn.preprocessing import StandardScaler\n",
        "Y_scaler = StandardScaler()\n",
        "Y_scaler.fit(Y_train.reshape(-1, Y_train.shape[-1]))\n",
        "\n",
        "Y_train = Y_scaler.transform(Y_train.reshape(-1, Y_train.shape[-1])).reshape(Y_train.shape).astype('float32')\n",
        "Y_test  = Y_scaler.transform(Y_test.reshape(-1, Y_test.shape[-1])).reshape(Y_test.shape).astype('float32')"
      ]
    },
    {
      "cell_type": "code",
      "execution_count": 8,
      "metadata": {
        "id": "aQLwhA0xKt55"
      },
      "outputs": [],
      "source": [
        "# Convert your data to PyTorch tensors\n",
        "# Convert NumPy arrays to PyTorch tensors with the appropriate data types\n",
        "Y_train = torch.FloatTensor(Y_train)\n",
        "# Converting DataFrame to a NumPy array and then to Pytorch tensor\n",
        "# Z_train = Z_train.to_numpy()  # Convert Z_train DataFrame to a NumPy array\n",
        "# Convert the NumPy array to a PyTorch tensor\n",
        "Z_train = torch.FloatTensor(Z_train)\n",
        "\n",
        "# Convert NumPy arrays to PyTorch tensors with the appropriate data types\n",
        "Y_test = torch.FloatTensor(Y_test)\n",
        "# Converting DataFrame to a NumPy array and then to Pytorch tensor\n",
        "# Z_test = Z_test.to_numpy()  # Convert Z_test DataFrame to a NumPy array\n",
        "# Convert the NumPy array to a PyTorch tensor\n",
        "Z_test = torch.FloatTensor(Z_test)\n"
      ]
    },
    {
      "cell_type": "code",
      "execution_count": 9,
      "metadata": {
        "colab": {
          "base_uri": "https://localhost:8080/"
        },
        "id": "h7gTZcFhRgM_",
        "outputId": "72e312c4-f2dc-4a1a-eb20-b2f035ebe128"
      },
      "outputs": [
        {
          "data": {
            "text/plain": [
              "torch.Size([17441, 100, 100, 3])"
            ]
          },
          "execution_count": 9,
          "metadata": {},
          "output_type": "execute_result"
        }
      ],
      "source": [
        "Y_train.shape"
      ]
    },
    {
      "cell_type": "code",
      "execution_count": 10,
      "metadata": {
        "colab": {
          "base_uri": "https://localhost:8080/"
        },
        "id": "V1prNZGgUF_f",
        "outputId": "b77d0ada-f3b8-4bbd-da0e-362088aa2591"
      },
      "outputs": [
        {
          "data": {
            "text/plain": [
              "torch.Size([4396, 100, 100, 3])"
            ]
          },
          "execution_count": 10,
          "metadata": {},
          "output_type": "execute_result"
        }
      ],
      "source": [
        "Y_test.shape"
      ]
    },
    {
      "cell_type": "code",
      "execution_count": 11,
      "metadata": {
        "id": "s5VRO3juTbnt"
      },
      "outputs": [],
      "source": [
        "Y_train=Y_train.permute(0,3,1,2)\n",
        "# Y_train=Y_train.unsqueeze(dim = 0).permute(1,0,3,2) #torch.Size([17441, 1, 12, 500])\n",
        "# Y_test=Y_test.unsqueeze(dim = 0).permute(1,0,3,2)\n",
        "Y_test=Y_test.permute(0,3,1,2)"
      ]
    },
    {
      "cell_type": "code",
      "execution_count": 12,
      "metadata": {
        "colab": {
          "base_uri": "https://localhost:8080/"
        },
        "id": "c5oKM3puxObV",
        "outputId": "773103c1-c1d9-45ba-ac1c-e139c1ce2c16"
      },
      "outputs": [
        {
          "data": {
            "text/plain": [
              "torch.Size([17441, 3, 100, 100])"
            ]
          },
          "execution_count": 12,
          "metadata": {},
          "output_type": "execute_result"
        }
      ],
      "source": [
        "Y_train.shape"
      ]
    },
    {
      "cell_type": "code",
      "execution_count": 13,
      "metadata": {
        "colab": {
          "base_uri": "https://localhost:8080/"
        },
        "id": "RHe1sRDiYCZ4",
        "outputId": "f004bd7d-c921-444f-c3b2-ea17e79cc7cb"
      },
      "outputs": [
        {
          "data": {
            "text/plain": [
              "torch.Size([17441, 5])"
            ]
          },
          "execution_count": 13,
          "metadata": {},
          "output_type": "execute_result"
        }
      ],
      "source": [
        "Z_train.shape"
      ]
    },
    {
      "cell_type": "code",
      "execution_count": 14,
      "metadata": {
        "colab": {
          "base_uri": "https://localhost:8080/"
        },
        "id": "2C0WJvRaGhSn",
        "outputId": "b4078c60-7c52-490f-83e8-86b6fcf43748"
      },
      "outputs": [
        {
          "data": {
            "text/plain": [
              "device(type='cuda')"
            ]
          },
          "execution_count": 14,
          "metadata": {},
          "output_type": "execute_result"
        }
      ],
      "source": [
        "device = torch.device(\"cuda\" if torch.cuda.is_available() else \"cpu\")\n",
        "device"
      ]
    },
    {
      "cell_type": "markdown",
      "metadata": {},
      "source": [
        "## 2. Create Dataloaders"
      ]
    },
    {
      "cell_type": "code",
      "execution_count": 15,
      "metadata": {
        "id": "emSZrxGQxmls"
      },
      "outputs": [],
      "source": [
        "import torch\n",
        "import torch.nn as nn\n",
        "import torch.optim as optim\n",
        "from torch.utils.data import Dataset, DataLoader\n",
        "\n",
        "# Define a custom dataset class\n",
        "class CustomDataset(Dataset):\n",
        "    def __init__(self, Y, Z):\n",
        "        self.Y = torch.Tensor(Y)  # Input data\n",
        "        self.Z = torch.Tensor(Z)  # Multilabel class labels\n",
        "\n",
        "    def __len__(self):\n",
        "        return len(self.Y)\n",
        "\n",
        "    def __getitem__(self, idx):\n",
        "        return self.Y[idx], self.Z[idx]\n",
        "\n",
        "# Create custom datasets and dataloaders\n",
        "train_dataset = CustomDataset(Y_train, Z_train)\n",
        "train_loader = DataLoader(train_dataset, batch_size=32, shuffle=True)\n",
        "\n",
        "test_dataset = CustomDataset(Y_test, Z_test)\n",
        "test_loader = DataLoader(test_dataset, batch_size=32)"
      ]
    },
    {
      "cell_type": "code",
      "execution_count": 16,
      "metadata": {
        "colab": {
          "base_uri": "https://localhost:8080/"
        },
        "id": "X8YqGBx4jYRv",
        "outputId": "93a97553-87b3-4704-f85e-4cfd22932369"
      },
      "outputs": [
        {
          "data": {
            "text/plain": [
              "tensor([0., 1., 0., 0., 0.])"
            ]
          },
          "execution_count": 16,
          "metadata": {},
          "output_type": "execute_result"
        }
      ],
      "source": [
        "for train_images, train_labels in train_loader:\n",
        "    sample_image = train_images[0]    # Reshape them according to your needs.\n",
        "    sample_label = train_labels[0]\n",
        "\n",
        "# sample_image\n",
        "sample_label"
      ]
    },
    {
      "cell_type": "code",
      "execution_count": 17,
      "metadata": {
        "colab": {
          "base_uri": "https://localhost:8080/"
        },
        "id": "h09xP0uiMcoJ",
        "outputId": "d7dde65c-e0f1-42ce-d48c-2126365fb735"
      },
      "outputs": [
        {
          "name": "stdout",
          "output_type": "stream",
          "text": [
            "DataLoaders: (<torch.utils.data.dataloader.DataLoader object at 0x0000019FB18A3910>, <torch.utils.data.dataloader.DataLoader object at 0x0000019FB18A1D20>)\n",
            "Length of the train_loader: 546 batches of 32...\n",
            "Length of the test_loader: 138 batches of 32...\n"
          ]
        }
      ],
      "source": [
        "BATCH_SIZE = 32\n",
        "# Let's check out what we have created\n",
        "print(f\"DataLoaders: {train_loader, test_loader}\")\n",
        "print(f\"Length of the train_loader: {len(train_loader)} batches of {BATCH_SIZE}...\")\n",
        "print(f\"Length of the test_loader: {len(test_loader)} batches of {BATCH_SIZE}...\")"
      ]
    },
    {
      "cell_type": "code",
      "execution_count": 18,
      "metadata": {
        "colab": {
          "base_uri": "https://localhost:8080/"
        },
        "id": "kvTKhq5mM-qs",
        "outputId": "74682f4f-f85c-4ef5-99b4-6aa220765c65"
      },
      "outputs": [
        {
          "data": {
            "text/plain": [
              "(torch.Size([32, 3, 100, 100]), torch.Size([32, 5]))"
            ]
          },
          "execution_count": 18,
          "metadata": {},
          "output_type": "execute_result"
        }
      ],
      "source": [
        "# Check out what's inside training data loader\n",
        "train_features_batch, train_labels_batch = next(iter(train_loader))\n",
        "train_features_batch.shape, train_labels_batch.shape\n",
        "# test_features_batch, test_labels_batch = next(iter(test_loader))\n"
      ]
    },
    {
      "cell_type": "markdown",
      "metadata": {},
      "source": [
        "## 3. Start creating models"
      ]
    },
    {
      "cell_type": "code",
      "execution_count": 24,
      "metadata": {
        "id": "9xJe14amJvRf"
      },
      "outputs": [],
      "source": [
        "# Create a CNN\n",
        "class ECGModelV1(nn.Module):\n",
        "  \"\"\"\n",
        "  Model architecture that replicates the TinyVGG\n",
        "  model from CNN explainer website\n",
        "  \"\"\"\n",
        "  def __init__(self,input_shape:int,hidden_units:int,output_shape:int):\n",
        "    super().__init__()\n",
        "    self.conv_block_1 = nn.Sequential(\n",
        "        # Create a conv layer\n",
        "        nn.Conv2d(in_channels = input_shape,\n",
        "                  out_channels = hidden_units,\n",
        "                  kernel_size = 3,# or (3,3)\n",
        "                  stride = 1,\n",
        "                  padding = 1), #values we can set ourselves in our NNs are hyperparanteres\n",
        "        nn.ReLU(),\n",
        "        nn.Conv2d(in_channels = hidden_units,\n",
        "                  out_channels = hidden_units,\n",
        "                  kernel_size = 3,\n",
        "                  stride = 1,\n",
        "                  padding = 1),\n",
        "        nn.ReLU(),\n",
        "        nn.MaxPool2d(kernel_size = 2)#learns compressed representation of the input\n",
        "    )\n",
        "    self.conv_block_2 = nn.Sequential(\n",
        "        # Create a conv layer\n",
        "        nn.Conv2d(in_channels = hidden_units,\n",
        "                  out_channels = hidden_units,\n",
        "                  kernel_size = 3,# or (3,3)\n",
        "                  stride = 1,\n",
        "                  padding = 1), #values we can set ourselves in our NNs are hyperparanteres\n",
        "        nn.ReLU(),\n",
        "        nn.Conv2d(in_channels = hidden_units,\n",
        "                  out_channels = hidden_units,\n",
        "                  kernel_size = 3,\n",
        "                  stride = 1,\n",
        "                  padding = 1),\n",
        "        nn.ReLU(),\n",
        "        nn.MaxPool2d(kernel_size = 2)#learns compressed representation of the input\n",
        "    )\n",
        "    self.classifier = nn.Sequential(\n",
        "        nn.Flatten(),\n",
        "        # nn.Linear(in_features=hidden_units*375,#There's a trick to calculating this\n",
        "        nn.Linear(in_features=hidden_units*625,#There's a trick to calculating this\n",
        "                  out_features = output_shape),\n",
        "        nn.Sigmoid() # Sigmoid activation for multi-label classification\n",
        "    )\n",
        "\n",
        "  def forward(self,x):\n",
        "    x= self.conv_block_1(x)\n",
        "    # print(f\"Output shape of conv block 1: {x.shape}\")\n",
        "    x= self.conv_block_2(x)\n",
        "    # print(f\"Output shape of conv block 2: {x.shape}\")\n",
        "    x= self.classifier(x)\n",
        "    # print(f\"Output shape of classifier: {x.shape}\")\n",
        "    return x"
      ]
    },
    {
      "cell_type": "code",
      "execution_count": 25,
      "metadata": {
        "colab": {
          "base_uri": "https://localhost:8080/"
        },
        "id": "0AkR65mQJvOw",
        "outputId": "dac171d9-f1f7-4fba-c6c5-37abce2ddb8c"
      },
      "outputs": [
        {
          "data": {
            "text/plain": [
              "ECGModelV1(\n",
              "  (conv_block_1): Sequential(\n",
              "    (0): Conv2d(3, 10, kernel_size=(3, 3), stride=(1, 1), padding=(1, 1))\n",
              "    (1): ReLU()\n",
              "    (2): Conv2d(10, 10, kernel_size=(3, 3), stride=(1, 1), padding=(1, 1))\n",
              "    (3): ReLU()\n",
              "    (4): MaxPool2d(kernel_size=2, stride=2, padding=0, dilation=1, ceil_mode=False)\n",
              "  )\n",
              "  (conv_block_2): Sequential(\n",
              "    (0): Conv2d(10, 10, kernel_size=(3, 3), stride=(1, 1), padding=(1, 1))\n",
              "    (1): ReLU()\n",
              "    (2): Conv2d(10, 10, kernel_size=(3, 3), stride=(1, 1), padding=(1, 1))\n",
              "    (3): ReLU()\n",
              "    (4): MaxPool2d(kernel_size=2, stride=2, padding=0, dilation=1, ceil_mode=False)\n",
              "  )\n",
              "  (classifier): Sequential(\n",
              "    (0): Flatten(start_dim=1, end_dim=-1)\n",
              "    (1): Linear(in_features=6250, out_features=5, bias=True)\n",
              "    (2): Sigmoid()\n",
              "  )\n",
              ")"
            ]
          },
          "execution_count": 25,
          "metadata": {},
          "output_type": "execute_result"
        }
      ],
      "source": [
        "torch.manual_seed(42)\n",
        "model_1 = ECGModelV1(input_shape=3,#only back and white so 1 if colored =3\n",
        "                              hidden_units=10,\n",
        "                              output_shape=5).to(device)\n",
        "model_1\n"
      ]
    },
    {
      "cell_type": "code",
      "execution_count": 37,
      "metadata": {},
      "outputs": [
        {
          "name": "stdout",
          "output_type": "stream",
          "text": [
            "ECGModelV2(\n",
            "  (conv_block_1): Sequential(\n",
            "    (0): Conv2d(1, 10, kernel_size=(3, 3), stride=(1, 1), padding=(1, 1))\n",
            "    (1): ReLU()\n",
            "    (2): Conv2d(10, 10, kernel_size=(3, 3), stride=(1, 1), padding=(1, 1))\n",
            "    (3): ReLU()\n",
            "    (4): MaxPool2d(kernel_size=2, stride=2, padding=0, dilation=1, ceil_mode=False)\n",
            "  )\n",
            "  (conv_block_2): Sequential(\n",
            "    (0): Conv2d(10, 10, kernel_size=(3, 3), stride=(1, 1), padding=(1, 1))\n",
            "    (1): ReLU()\n",
            "    (2): Conv2d(10, 10, kernel_size=(3, 3), stride=(1, 1), padding=(1, 1))\n",
            "    (3): ReLU()\n",
            "    (4): MaxPool2d(kernel_size=2, stride=2, padding=0, dilation=1, ceil_mode=False)\n",
            "  )\n",
            "  (classifier): Sequential(\n",
            "    (0): Flatten(start_dim=1, end_dim=-1)\n",
            "    (1): Linear(in_features=3750, out_features=5, bias=True)\n",
            "    (2): Sigmoid()\n",
            "  )\n",
            ")\n"
          ]
        }
      ],
      "source": [
        "import torch\n",
        "import torch.nn as nn\n",
        "\n",
        "# Define your model architecture with Glorot initialization\n",
        "class ECGModelV2(nn.Module):\n",
        "    def __init__(self):\n",
        "        super(ECGModelV2, self).__init__()\n",
        "\n",
        "        # Convolutional layers\n",
        "        self.conv_block_1 = nn.Sequential(\n",
        "            nn.Conv2d(1, 10, kernel_size=(3, 3), stride=(1, 1), padding=(1, 1)),\n",
        "            nn.ReLU(),\n",
        "            nn.Conv2d(10, 10, kernel_size=(3, 3), stride=(1, 1), padding=(1, 1)),\n",
        "            nn.ReLU(),\n",
        "            nn.MaxPool2d(kernel_size=2, stride=2, padding=0, dilation=1, ceil_mode=False)\n",
        "        )\n",
        "\n",
        "        self.conv_block_2 = nn.Sequential(\n",
        "            nn.Conv2d(10, 10, kernel_size=(3, 3), stride=(1, 1), padding=(1, 1)),\n",
        "            nn.ReLU(),\n",
        "            nn.Conv2d(10, 10, kernel_size=(3, 3), stride=(1, 1), padding=(1, 1)),\n",
        "            nn.ReLU(),\n",
        "            nn.MaxPool2d(kernel_size=2, stride=2, padding=0, dilation=1, ceil_mode=False)\n",
        "        )\n",
        "\n",
        "        # Classifier layers\n",
        "        self.classifier = nn.Sequential(\n",
        "            nn.Flatten(start_dim=1, end_dim=-1),\n",
        "            nn.Linear(3750, 5, bias=True),\n",
        "            nn.Sigmoid()\n",
        "        )\n",
        "\n",
        "        # Initialize the layers with Glorot initialization\n",
        "        self.init_weights()\n",
        "\n",
        "    def init_weights(self):\n",
        "        for module in self.modules():\n",
        "            if isinstance(module, nn.Conv2d) or isinstance(module, nn.Linear):\n",
        "                nn.init.xavier_uniform_(module.weight)\n",
        "\n",
        "    def forward(self, x):\n",
        "        x = self.conv_block_1(x)\n",
        "        x = self.conv_block_2(x)\n",
        "        x = self.classifier(x)\n",
        "        return x\n",
        "\n",
        "# Create an instance of your model\n",
        "model_2 = ECGModelV2().to(device)\n",
        "\n",
        "# Print the model to verify the architecture and initialization\n",
        "print(model_2)\n"
      ]
    },
    {
      "cell_type": "code",
      "execution_count": 36,
      "metadata": {},
      "outputs": [
        {
          "ename": "OutOfMemoryError",
          "evalue": "CUDA out of memory. Tried to allocate 20.00 MiB (GPU 0; 4.00 GiB total capacity; 3.48 GiB already allocated; 0 bytes free; 3.48 GiB reserved in total by PyTorch) If reserved memory is >> allocated memory try setting max_split_size_mb to avoid fragmentation.  See documentation for Memory Management and PYTORCH_CUDA_ALLOC_CONF",
          "output_type": "error",
          "traceback": [
            "\u001b[1;31m---------------------------------------------------------------------------\u001b[0m",
            "\u001b[1;31mOutOfMemoryError\u001b[0m                          Traceback (most recent call last)",
            "\u001b[1;32md:\\Test Jupyter\\ECG-Classfier-main\\code\\dlModels.ipynb Cell 27\u001b[0m line \u001b[0;36m9\n\u001b[0;32m     <a href='vscode-notebook-cell:/d%3A/Test%20Jupyter/ECG-Classfier-main/code/dlModels.ipynb#X35sZmlsZQ%3D%3D?line=95'>96</a>\u001b[0m input_channels \u001b[39m=\u001b[39m \u001b[39m1\u001b[39m  \u001b[39m# Input channels based on your data\u001b[39;00m\n\u001b[0;32m     <a href='vscode-notebook-cell:/d%3A/Test%20Jupyter/ECG-Classfier-main/code/dlModels.ipynb#X35sZmlsZQ%3D%3D?line=96'>97</a>\u001b[0m output_channels \u001b[39m=\u001b[39m \u001b[39m5\u001b[39m  \u001b[39m# Output channels based on your requirement\u001b[39;00m\n\u001b[1;32m---> <a href='vscode-notebook-cell:/d%3A/Test%20Jupyter/ECG-Classfier-main/code/dlModels.ipynb#X35sZmlsZQ%3D%3D?line=98'>99</a>\u001b[0m model \u001b[39m=\u001b[39m CustomResNet(input_channels, output_channels)\u001b[39m.\u001b[39;49mto(device)\n\u001b[0;32m    <a href='vscode-notebook-cell:/d%3A/Test%20Jupyter/ECG-Classfier-main/code/dlModels.ipynb#X35sZmlsZQ%3D%3D?line=99'>100</a>\u001b[0m \u001b[39mprint\u001b[39m(model)\n",
            "File \u001b[1;32mc:\\Users\\ROG\\AppData\\Local\\Programs\\Python\\Python310\\lib\\site-packages\\torch\\nn\\modules\\module.py:1145\u001b[0m, in \u001b[0;36mModule.to\u001b[1;34m(self, *args, **kwargs)\u001b[0m\n\u001b[0;32m   1141\u001b[0m         \u001b[39mreturn\u001b[39;00m t\u001b[39m.\u001b[39mto(device, dtype \u001b[39mif\u001b[39;00m t\u001b[39m.\u001b[39mis_floating_point() \u001b[39mor\u001b[39;00m t\u001b[39m.\u001b[39mis_complex() \u001b[39melse\u001b[39;00m \u001b[39mNone\u001b[39;00m,\n\u001b[0;32m   1142\u001b[0m                     non_blocking, memory_format\u001b[39m=\u001b[39mconvert_to_format)\n\u001b[0;32m   1143\u001b[0m     \u001b[39mreturn\u001b[39;00m t\u001b[39m.\u001b[39mto(device, dtype \u001b[39mif\u001b[39;00m t\u001b[39m.\u001b[39mis_floating_point() \u001b[39mor\u001b[39;00m t\u001b[39m.\u001b[39mis_complex() \u001b[39melse\u001b[39;00m \u001b[39mNone\u001b[39;00m, non_blocking)\n\u001b[1;32m-> 1145\u001b[0m \u001b[39mreturn\u001b[39;00m \u001b[39mself\u001b[39;49m\u001b[39m.\u001b[39;49m_apply(convert)\n",
            "File \u001b[1;32mc:\\Users\\ROG\\AppData\\Local\\Programs\\Python\\Python310\\lib\\site-packages\\torch\\nn\\modules\\module.py:797\u001b[0m, in \u001b[0;36mModule._apply\u001b[1;34m(self, fn)\u001b[0m\n\u001b[0;32m    795\u001b[0m \u001b[39mdef\u001b[39;00m \u001b[39m_apply\u001b[39m(\u001b[39mself\u001b[39m, fn):\n\u001b[0;32m    796\u001b[0m     \u001b[39mfor\u001b[39;00m module \u001b[39min\u001b[39;00m \u001b[39mself\u001b[39m\u001b[39m.\u001b[39mchildren():\n\u001b[1;32m--> 797\u001b[0m         module\u001b[39m.\u001b[39;49m_apply(fn)\n\u001b[0;32m    799\u001b[0m     \u001b[39mdef\u001b[39;00m \u001b[39mcompute_should_use_set_data\u001b[39m(tensor, tensor_applied):\n\u001b[0;32m    800\u001b[0m         \u001b[39mif\u001b[39;00m torch\u001b[39m.\u001b[39m_has_compatible_shallow_copy_type(tensor, tensor_applied):\n\u001b[0;32m    801\u001b[0m             \u001b[39m# If the new tensor has compatible tensor type as the existing tensor,\u001b[39;00m\n\u001b[0;32m    802\u001b[0m             \u001b[39m# the current behavior is to change the tensor in-place using `.data =`,\u001b[39;00m\n\u001b[1;32m   (...)\u001b[0m\n\u001b[0;32m    807\u001b[0m             \u001b[39m# global flag to let the user control whether they want the future\u001b[39;00m\n\u001b[0;32m    808\u001b[0m             \u001b[39m# behavior of overwriting the existing tensor or not.\u001b[39;00m\n",
            "File \u001b[1;32mc:\\Users\\ROG\\AppData\\Local\\Programs\\Python\\Python310\\lib\\site-packages\\torch\\nn\\modules\\module.py:797\u001b[0m, in \u001b[0;36mModule._apply\u001b[1;34m(self, fn)\u001b[0m\n\u001b[0;32m    795\u001b[0m \u001b[39mdef\u001b[39;00m \u001b[39m_apply\u001b[39m(\u001b[39mself\u001b[39m, fn):\n\u001b[0;32m    796\u001b[0m     \u001b[39mfor\u001b[39;00m module \u001b[39min\u001b[39;00m \u001b[39mself\u001b[39m\u001b[39m.\u001b[39mchildren():\n\u001b[1;32m--> 797\u001b[0m         module\u001b[39m.\u001b[39;49m_apply(fn)\n\u001b[0;32m    799\u001b[0m     \u001b[39mdef\u001b[39;00m \u001b[39mcompute_should_use_set_data\u001b[39m(tensor, tensor_applied):\n\u001b[0;32m    800\u001b[0m         \u001b[39mif\u001b[39;00m torch\u001b[39m.\u001b[39m_has_compatible_shallow_copy_type(tensor, tensor_applied):\n\u001b[0;32m    801\u001b[0m             \u001b[39m# If the new tensor has compatible tensor type as the existing tensor,\u001b[39;00m\n\u001b[0;32m    802\u001b[0m             \u001b[39m# the current behavior is to change the tensor in-place using `.data =`,\u001b[39;00m\n\u001b[1;32m   (...)\u001b[0m\n\u001b[0;32m    807\u001b[0m             \u001b[39m# global flag to let the user control whether they want the future\u001b[39;00m\n\u001b[0;32m    808\u001b[0m             \u001b[39m# behavior of overwriting the existing tensor or not.\u001b[39;00m\n",
            "    \u001b[1;31m[... skipping similar frames: Module._apply at line 797 (1 times)]\u001b[0m\n",
            "File \u001b[1;32mc:\\Users\\ROG\\AppData\\Local\\Programs\\Python\\Python310\\lib\\site-packages\\torch\\nn\\modules\\module.py:797\u001b[0m, in \u001b[0;36mModule._apply\u001b[1;34m(self, fn)\u001b[0m\n\u001b[0;32m    795\u001b[0m \u001b[39mdef\u001b[39;00m \u001b[39m_apply\u001b[39m(\u001b[39mself\u001b[39m, fn):\n\u001b[0;32m    796\u001b[0m     \u001b[39mfor\u001b[39;00m module \u001b[39min\u001b[39;00m \u001b[39mself\u001b[39m\u001b[39m.\u001b[39mchildren():\n\u001b[1;32m--> 797\u001b[0m         module\u001b[39m.\u001b[39;49m_apply(fn)\n\u001b[0;32m    799\u001b[0m     \u001b[39mdef\u001b[39;00m \u001b[39mcompute_should_use_set_data\u001b[39m(tensor, tensor_applied):\n\u001b[0;32m    800\u001b[0m         \u001b[39mif\u001b[39;00m torch\u001b[39m.\u001b[39m_has_compatible_shallow_copy_type(tensor, tensor_applied):\n\u001b[0;32m    801\u001b[0m             \u001b[39m# If the new tensor has compatible tensor type as the existing tensor,\u001b[39;00m\n\u001b[0;32m    802\u001b[0m             \u001b[39m# the current behavior is to change the tensor in-place using `.data =`,\u001b[39;00m\n\u001b[1;32m   (...)\u001b[0m\n\u001b[0;32m    807\u001b[0m             \u001b[39m# global flag to let the user control whether they want the future\u001b[39;00m\n\u001b[0;32m    808\u001b[0m             \u001b[39m# behavior of overwriting the existing tensor or not.\u001b[39;00m\n",
            "File \u001b[1;32mc:\\Users\\ROG\\AppData\\Local\\Programs\\Python\\Python310\\lib\\site-packages\\torch\\nn\\modules\\module.py:820\u001b[0m, in \u001b[0;36mModule._apply\u001b[1;34m(self, fn)\u001b[0m\n\u001b[0;32m    816\u001b[0m \u001b[39m# Tensors stored in modules are graph leaves, and we don't want to\u001b[39;00m\n\u001b[0;32m    817\u001b[0m \u001b[39m# track autograd history of `param_applied`, so we have to use\u001b[39;00m\n\u001b[0;32m    818\u001b[0m \u001b[39m# `with torch.no_grad():`\u001b[39;00m\n\u001b[0;32m    819\u001b[0m \u001b[39mwith\u001b[39;00m torch\u001b[39m.\u001b[39mno_grad():\n\u001b[1;32m--> 820\u001b[0m     param_applied \u001b[39m=\u001b[39m fn(param)\n\u001b[0;32m    821\u001b[0m should_use_set_data \u001b[39m=\u001b[39m compute_should_use_set_data(param, param_applied)\n\u001b[0;32m    822\u001b[0m \u001b[39mif\u001b[39;00m should_use_set_data:\n",
            "File \u001b[1;32mc:\\Users\\ROG\\AppData\\Local\\Programs\\Python\\Python310\\lib\\site-packages\\torch\\nn\\modules\\module.py:1143\u001b[0m, in \u001b[0;36mModule.to.<locals>.convert\u001b[1;34m(t)\u001b[0m\n\u001b[0;32m   1140\u001b[0m \u001b[39mif\u001b[39;00m convert_to_format \u001b[39mis\u001b[39;00m \u001b[39mnot\u001b[39;00m \u001b[39mNone\u001b[39;00m \u001b[39mand\u001b[39;00m t\u001b[39m.\u001b[39mdim() \u001b[39min\u001b[39;00m (\u001b[39m4\u001b[39m, \u001b[39m5\u001b[39m):\n\u001b[0;32m   1141\u001b[0m     \u001b[39mreturn\u001b[39;00m t\u001b[39m.\u001b[39mto(device, dtype \u001b[39mif\u001b[39;00m t\u001b[39m.\u001b[39mis_floating_point() \u001b[39mor\u001b[39;00m t\u001b[39m.\u001b[39mis_complex() \u001b[39melse\u001b[39;00m \u001b[39mNone\u001b[39;00m,\n\u001b[0;32m   1142\u001b[0m                 non_blocking, memory_format\u001b[39m=\u001b[39mconvert_to_format)\n\u001b[1;32m-> 1143\u001b[0m \u001b[39mreturn\u001b[39;00m t\u001b[39m.\u001b[39;49mto(device, dtype \u001b[39mif\u001b[39;49;00m t\u001b[39m.\u001b[39;49mis_floating_point() \u001b[39mor\u001b[39;49;00m t\u001b[39m.\u001b[39;49mis_complex() \u001b[39melse\u001b[39;49;00m \u001b[39mNone\u001b[39;49;00m, non_blocking)\n",
            "\u001b[1;31mOutOfMemoryError\u001b[0m: CUDA out of memory. Tried to allocate 20.00 MiB (GPU 0; 4.00 GiB total capacity; 3.48 GiB already allocated; 0 bytes free; 3.48 GiB reserved in total by PyTorch) If reserved memory is >> allocated memory try setting max_split_size_mb to avoid fragmentation.  See documentation for Memory Management and PYTORCH_CUDA_ALLOC_CONF"
          ]
        }
      ],
      "source": [
        "import torch\n",
        "import torch.nn as nn\n",
        "\n",
        "class ResNetBottleneckBlock(nn.Module):\n",
        "    def __init__(self, in_channels, out_channels, stride):\n",
        "        super(ResNetBottleneckBlock, self).__init__()\n",
        "        # Conv1x1 layer with batch normalization and ReLU\n",
        "        self.conv1 = nn.Conv2d(in_channels, out_channels, kernel_size=1, stride=stride, bias=False)\n",
        "        self.bn1 = nn.BatchNorm2d(out_channels)\n",
        "        self.relu = nn.ReLU(inplace=True)\n",
        "        \n",
        "        # Conv3x3 layer with batch normalization and ReLU\n",
        "        self.conv2 = nn.Conv2d(out_channels, out_channels, kernel_size=3, stride=1, padding=1, bias=False)\n",
        "        self.bn2 = nn.BatchNorm2d(out_channels)\n",
        "        \n",
        "        # Conv1x1 layer with batch normalization (no ReLU)\n",
        "        self.conv3 = nn.Conv2d(out_channels, out_channels * 4, kernel_size=1, bias=False)\n",
        "        self.bn3 = nn.BatchNorm2d(out_channels * 4)\n",
        "        \n",
        "        # Shortcut connection if input and output channels differ\n",
        "        self.shortcut = nn.Sequential()\n",
        "        if stride != 1 or in_channels != out_channels * 4:\n",
        "            self.shortcut = nn.Sequential(\n",
        "                nn.Conv2d(in_channels, out_channels * 4, kernel_size=1, stride=stride, bias=False),\n",
        "                nn.BatchNorm2d(out_channels * 4)\n",
        "            )\n",
        "        \n",
        "    def forward(self, x):\n",
        "        out = self.conv1(x)\n",
        "        out = self.bn1(out)\n",
        "        out = self.relu(out)\n",
        "        \n",
        "        out = self.conv2(out)\n",
        "        out = self.bn2(out)\n",
        "        out = self.relu(out)\n",
        "        \n",
        "        out = self.conv3(out)\n",
        "        out = self.bn3(out)\n",
        "        \n",
        "        # Add the shortcut connection\n",
        "        out += self.shortcut(x)\n",
        "        out = self.relu(out)\n",
        "        return out\n",
        "\n",
        "class CustomResNet(nn.Module):\n",
        "    def __init__(self, input_channels, output_channels):\n",
        "        super(CustomResNet, self).__init__()\n",
        "        self.in_channels = 64  # Initial channels for the first ResNet block\n",
        "        \n",
        "        # Initial convolution layer\n",
        "        self.conv1 = nn.Conv2d(input_channels, self.in_channels, kernel_size=7, stride=2, padding=3, bias=False)\n",
        "        self.bn1 = nn.BatchNorm2d(self.in_channels)\n",
        "        self.relu = nn.ReLU(inplace=True)\n",
        "        \n",
        "        # ResNet Blocks\n",
        "        self.layer1 = self._make_layer(16, 3, stride=2)\n",
        "        self.layer2 = self._make_layer(32, 4, stride=2)\n",
        "        self.layer3 = self._make_layer(64, 3, stride=2)\n",
        "        self.layer4 = self._make_layer(128, 3, stride=2)\n",
        "        self.layer5 = self._make_layer(256, 2, stride=2)\n",
        "        self.layer6 = self._make_layer(512, 2, stride=2)\n",
        "        \n",
        "        # Global average pooling\n",
        "        self.avgpool = nn.AdaptiveAvgPool2d((1, 1))\n",
        "        \n",
        "        # Fully connected layers\n",
        "        self.fc = nn.Linear(2048, output_channels)  # Adjust input_channels based on the final feature map size\n",
        "        \n",
        "    def _make_layer(self, out_channels, num_blocks, stride):\n",
        "        layers = []\n",
        "        layers.append(ResNetBottleneckBlock(self.in_channels, out_channels, stride))\n",
        "        self.in_channels = out_channels * 4\n",
        "        for _ in range(1, num_blocks):\n",
        "            layers.append(ResNetBottleneckBlock(self.in_channels, out_channels, stride=1))\n",
        "        return nn.Sequential(*layers)\n",
        "    \n",
        "    def forward(self, x):\n",
        "        x = self.conv1(x)\n",
        "        x = self.bn1(x)\n",
        "        x = self.relu(x)\n",
        "        \n",
        "        x = self.layer1(x)\n",
        "        x = self.layer2(x)\n",
        "        x = self.layer3(x)\n",
        "        x = self.layer4(x)\n",
        "        x = self.layer5(x)\n",
        "        x = self.layer6(x)\n",
        "        \n",
        "        x = self.avgpool(x)\n",
        "        x = x.view(x.size(0), -1)\n",
        "        x = self.fc(x)\n",
        "        \n",
        "        return x\n",
        "\n",
        "# Example usage:\n",
        "input_channels = 1  # Input channels based on your data\n",
        "output_channels = 5  # Output channels based on your requirement\n",
        "\n",
        "model = CustomResNet(input_channels, output_channels).to(device)\n",
        "print(model)\n"
      ]
    },
    {
      "cell_type": "code",
      "execution_count": 22,
      "metadata": {
        "colab": {
          "base_uri": "https://localhost:8080/"
        },
        "id": "4LDcfU2rJvMi",
        "outputId": "49431dcc-c016-4064-b7d8-dcafe64d216f"
      },
      "outputs": [
        {
          "data": {
            "text/plain": [
              "torch.Size([3, 100, 100])"
            ]
          },
          "execution_count": 22,
          "metadata": {},
          "output_type": "execute_result"
        }
      ],
      "source": [
        "# Pass a random image through model\n",
        "# rand_image_tensor = torch.randn(size=(1,12,500))\n",
        "rand_image_tensor = torch.randn(size=(3,100,100))\n",
        "rand_image_tensor.shape"
      ]
    },
    {
      "cell_type": "code",
      "execution_count": 26,
      "metadata": {
        "colab": {
          "base_uri": "https://localhost:8080/"
        },
        "id": "2DxoBgWmJvJH",
        "outputId": "066fd101-55f8-4cf4-c62e-e91bc74a6b81"
      },
      "outputs": [
        {
          "data": {
            "text/plain": [
              "tensor([[0.4885, 0.5141, 0.4901, 0.5406, 0.4741]], device='cuda:0',\n",
              "       grad_fn=<SigmoidBackward0>)"
            ]
          },
          "execution_count": 26,
          "metadata": {},
          "output_type": "execute_result"
        }
      ],
      "source": [
        "#Pass image through model\n",
        "model_1(rand_image_tensor.unsqueeze(0).to(device))"
      ]
    },
    {
      "cell_type": "code",
      "execution_count": 24,
      "metadata": {
        "id": "HxD8mCBR1DOl"
      },
      "outputs": [],
      "source": [
        "from timeit import default_timer as timer\n",
        "def print_train_time(start:float,\n",
        "                     end:float,\n",
        "                     device:torch.device = None):\n",
        "  \"\"\"Prints differnce between start and end time\"\"\"\n",
        "  total_time = end - start\n",
        "  print(f\"Train time on {device}: {total_time: .3f} seconds\")\n",
        "  return total_time"
      ]
    },
    {
      "cell_type": "markdown",
      "metadata": {},
      "source": [
        "## 4. Define train and test steps"
      ]
    },
    {
      "cell_type": "code",
      "execution_count": 27,
      "metadata": {
        "id": "VZiUQUC-1P-8"
      },
      "outputs": [],
      "source": [
        "def train_step(model, data_loader, loss_fn, optimizer, device):\n",
        "    model.train()\n",
        "    train_loss = 0.0\n",
        "    correct_predictions = 0\n",
        "    total_samples = 0\n",
        "\n",
        "    for inputs, labels in data_loader:\n",
        "        inputs, labels = inputs.to(device), labels.to(device)\n",
        "\n",
        "        optimizer.zero_grad()\n",
        "        outputs = model(inputs)\n",
        "        loss = loss_fn(outputs, labels)\n",
        "        loss.backward()\n",
        "        optimizer.step()\n",
        "\n",
        "        train_loss += loss.item()\n",
        "        _, predicted = torch.max(outputs, 1)\n",
        "        correct_predictions += (predicted == labels.argmax(dim=1)).sum().item()\n",
        "        total_samples += labels.size(0)\n",
        "\n",
        "    train_accuracy = (correct_predictions / total_samples) * 100\n",
        "    train_loss /= len(data_loader)\n",
        "\n",
        "    # print(f\"Train Loss: {train_loss:.4f} | Train Accuracy: {train_accuracy:.2f}%\")\n",
        "\n",
        "    return train_loss, train_accuracy\n"
      ]
    },
    {
      "cell_type": "code",
      "execution_count": 28,
      "metadata": {
        "id": "GgIabBcb1Rw9"
      },
      "outputs": [],
      "source": [
        "def test_step(model: torch.nn.Module,\n",
        "              data_loader: torch.utils.data.DataLoader,\n",
        "              loss_fn: torch.nn.Module,\n",
        "              device: torch.device = device):\n",
        "    \"\"\"Performs a testing loop step on model going over data_loader\"\"\"\n",
        "    test_loss, correct_predictions, total_samples = 0, 0, 0\n",
        "\n",
        "    # Put the model in eval mode\n",
        "    model.eval()\n",
        "\n",
        "    # Turn off gradients and inference mode context manager\n",
        "    with torch.no_grad():\n",
        "        for X, y in data_loader:\n",
        "            # Send the data to the target device\n",
        "            X, y = X.to(device), y.to(device)\n",
        "\n",
        "            # 1. Forward pass\n",
        "            test_pred = model(X)\n",
        "\n",
        "            # 2. Calculate loss (accumulatively)\n",
        "            test_loss += loss_fn(test_pred, y).item()\n",
        "\n",
        "            # 3. Calculate accuracy (accumulatively)\n",
        "            _, predicted = torch.max(test_pred, 1)\n",
        "            correct_predictions += (predicted == y.argmax(dim=1)).sum().item()\n",
        "            # correct_predictions += (predicted == y).sum().item()\n",
        "            total_samples += y.size(0)\n",
        "\n",
        "        # Calculate test loss and accuracy\n",
        "        test_loss /= len(data_loader)\n",
        "        test_accuracy = (correct_predictions / total_samples) * 100\n",
        "\n",
        "        # print(f\"Test Loss: {test_loss:.5f} | Test Accuracy: {test_accuracy:.2f}%\\n\")\n",
        "\n",
        "        return test_loss, test_accuracy\n"
      ]
    },
    {
      "cell_type": "code",
      "execution_count": 29,
      "metadata": {
        "id": "2Nne0tOdpQ_T"
      },
      "outputs": [],
      "source": [
        "def evaluate_model(model, data_loader, loss_fn, device, threshold=0.5):\n",
        "    model.eval()\n",
        "    test_loss = 0.0\n",
        "    # correct_predictions = 0\n",
        "    correct_samples = 0\n",
        "    total_samples = 0\n",
        "    all_true_labels = []\n",
        "    all_pred_scores = []\n",
        "\n",
        "    with torch.no_grad():\n",
        "        for inputs, labels in data_loader:\n",
        "            inputs, labels = inputs.to(device), labels.to(device)\n",
        "\n",
        "            outputs = model(inputs)\n",
        "            loss = loss_fn(outputs, labels)\n",
        "            test_loss += loss.item()\n",
        "\n",
        "            predicted_labels = (outputs >= threshold).float()  # Apply threshold (e.g., 0.5)\n",
        "\n",
        "            # Calculate correct predictions for the batch\n",
        "            # batch_correct_predictions = (predicted_labels == labels).sum().item()\n",
        "            batch_correct_samples = (predicted_labels == labels).all(dim=1).sum().item()\n",
        "\n",
        "\n",
        "            # Count the total number of labels in the batch\n",
        "            batch_total_samples = labels.sum().item()\n",
        "\n",
        "            # correct_predictions += batch_correct_predictions\n",
        "            correct_samples += batch_correct_samples\n",
        "            # total_samples += inputs.size(0)\n",
        "            total_samples += batch_total_samples\n",
        "\n",
        "            # print(\"labels\")\n",
        "            # print(labels)\n",
        "            # print(\"outputs\")\n",
        "            # print(outputs)\n",
        "            # print(\"predicted_labels\")\n",
        "            # print(predicted_labels)\n",
        "            # print(\"batch_correct_samples\")\n",
        "            # print(batch_correct_samples)\n",
        "            # print(\"batch_total_samples\")\n",
        "            # print(batch_total_samples)\n",
        "            # print(\"correct_samples\")\n",
        "            # print(correct_samples)\n",
        "            # print(\"total_samples\")\n",
        "            # print(total_samples)\n",
        "\n",
        "            all_true_labels.extend(labels.cpu().numpy())\n",
        "            all_pred_scores.extend(predicted_labels.cpu().numpy())\n",
        "\n",
        "        test_loss /= len(data_loader)\n",
        "        # test_accuracy = (correct_predictions / total_samples) * 100\n",
        "        test_accuracy = (correct_samples / total_samples) * 100\n",
        "\n",
        "    return test_loss, test_accuracy, all_true_labels, all_pred_scores"
      ]
    },
    {
      "cell_type": "code",
      "execution_count": 30,
      "metadata": {
        "id": "cCrDgnRvAK__"
      },
      "outputs": [],
      "source": [
        "def evaluate_model2(model, data_loader, loss_fn, device, threshold=0.5):\n",
        "    model.eval()\n",
        "    test_loss = 0.0\n",
        "    correct_samples = 0\n",
        "    total_samples = 0\n",
        "    all_true_labels = []\n",
        "    all_pred_scores = []\n",
        "\n",
        "    with torch.no_grad():\n",
        "        for inputs, labels in data_loader:\n",
        "            inputs, labels = inputs.to(device), labels.to(device)\n",
        "\n",
        "            outputs = model(inputs)\n",
        "            loss = loss_fn(outputs, labels)\n",
        "            test_loss += loss.item()\n",
        "\n",
        "            predicted_labels = (outputs >= threshold).float()  # Apply threshold (e.g., 0.5)\n",
        "\n",
        "            # Check if all labels for each sample are predicted correctly\n",
        "            batch_correct_samples = (predicted_labels == labels).all(dim=1).sum().item()\n",
        "\n",
        "            correct_samples += batch_correct_samples\n",
        "            total_samples += inputs.size(0)\n",
        "\n",
        "            all_true_labels.extend(labels.cpu().numpy())\n",
        "            all_pred_scores.extend(predicted_labels.cpu().numpy())\n",
        "\n",
        "        test_loss /= len(data_loader)\n",
        "        test_accuracy = (correct_samples / total_samples) * 100\n",
        "\n",
        "    return test_loss, test_accuracy, all_true_labels, all_pred_scores"
      ]
    },
    {
      "cell_type": "markdown",
      "metadata": {},
      "source": [
        "## 5. Call model and print evaluation metrics"
      ]
    },
    {
      "cell_type": "code",
      "execution_count": 37,
      "metadata": {
        "id": "Q7eO5FR4CHwg"
      },
      "outputs": [],
      "source": [
        "# loss_fn = nn.BCEWithLogitsLoss()\n",
        "loss_fn = nn.BCELoss()\n",
        "optimizer = torch.optim.Adam(params=model_1.parameters(),\n",
        "                            lr = 0.01)#optimize all bias and weight, i.e. everything in model_2.state_dict()"
      ]
    },
    {
      "cell_type": "code",
      "execution_count": 38,
      "metadata": {
        "colab": {
          "base_uri": "https://localhost:8080/",
          "height": 1000,
          "referenced_widgets": [
            "379a02ab8a7a468582a62ec8c30c4aa1",
            "0222e1d276fa40778055b2b508eb181c",
            "e36fda9e35b441a69788d20f9104a429",
            "0c121489a81447be989ba04d55154b96",
            "a4438182f7444fe9b1130ee5ae507b05",
            "7a7a6f171fc64313a242afa1d85fdeec",
            "fe3c211c146046d6a3a82019edc13904",
            "f4a729b40bc9498fbfd680537720f05b",
            "cc16ce12e17c48f4af99f81bf750b982",
            "8a41e940e04548439478bc0dcd84ad1d",
            "913030aae0da43459e24ed9dc7f2888f"
          ]
        },
        "id": "5zro5XEvpiXb",
        "outputId": "8df8dc38-c9d6-47f6-9ea0-f301f8f1b285"
      },
      "outputs": [
        {
          "data": {
            "application/vnd.jupyter.widget-view+json": {
              "model_id": "abeb0ab6f600451788e1a14b199d1a28",
              "version_major": 2,
              "version_minor": 0
            },
            "text/plain": [
              "  0%|          | 0/25 [00:00<?, ?it/s]"
            ]
          },
          "metadata": {},
          "output_type": "display_data"
        },
        {
          "name": "stdout",
          "output_type": "stream",
          "text": [
            "Epoch:0\n",
            "-----------\n",
            "Train Loss: 0.4267 | Train Accuracy: 57.79%\n",
            "Test Loss: 0.4405 | Test Accuracy: 40.04%\n",
            "Epoch:1\n",
            "-----------\n",
            "Train Loss: 0.4118 | Train Accuracy: 58.99%\n",
            "Test Loss: 0.4256 | Test Accuracy: 43.08%\n",
            "Epoch:2\n",
            "-----------\n",
            "Train Loss: 0.4097 | Train Accuracy: 59.35%\n",
            "Test Loss: 0.4350 | Test Accuracy: 44.18%\n",
            "Epoch:3\n",
            "-----------\n",
            "Train Loss: 0.4042 | Train Accuracy: 59.68%\n",
            "Test Loss: 0.4321 | Test Accuracy: 44.56%\n",
            "Epoch:4\n",
            "-----------\n",
            "Train Loss: 0.3981 | Train Accuracy: 60.41%\n",
            "Test Loss: 0.4345 | Test Accuracy: 44.95%\n",
            "Epoch:5\n",
            "-----------\n",
            "Train Loss: 0.3928 | Train Accuracy: 60.58%\n",
            "Test Loss: 0.4217 | Test Accuracy: 41.92%\n",
            "Epoch:6\n",
            "-----------\n",
            "Train Loss: 0.3930 | Train Accuracy: 60.51%\n",
            "Test Loss: 0.4524 | Test Accuracy: 42.42%\n",
            "Epoch:7\n",
            "-----------\n",
            "Train Loss: 0.3900 | Train Accuracy: 60.99%\n",
            "Test Loss: 0.4352 | Test Accuracy: 38.01%\n",
            "Epoch:8\n",
            "-----------\n",
            "Train Loss: 0.3829 | Train Accuracy: 61.66%\n",
            "Test Loss: 0.4303 | Test Accuracy: 41.56%\n",
            "Epoch:9\n",
            "-----------\n",
            "Train Loss: 0.3791 | Train Accuracy: 61.65%\n",
            "Test Loss: 0.4448 | Test Accuracy: 43.15%\n",
            "Epoch:10\n",
            "-----------\n",
            "Train Loss: 0.3768 | Train Accuracy: 62.15%\n",
            "Test Loss: 0.5222 | Test Accuracy: 43.81%\n",
            "Epoch:11\n",
            "-----------\n",
            "Train Loss: 0.3808 | Train Accuracy: 61.67%\n",
            "Test Loss: 0.4487 | Test Accuracy: 39.35%\n",
            "Epoch:12\n",
            "-----------\n",
            "Train Loss: 0.3768 | Train Accuracy: 62.11%\n",
            "Test Loss: 0.4385 | Test Accuracy: 41.52%\n",
            "Epoch:13\n",
            "-----------\n",
            "Train Loss: 0.3737 | Train Accuracy: 62.46%\n",
            "Test Loss: 0.4532 | Test Accuracy: 41.77%\n",
            "Epoch:14\n",
            "-----------\n",
            "Train Loss: 0.3715 | Train Accuracy: 62.55%\n",
            "Test Loss: 0.4470 | Test Accuracy: 41.45%\n",
            "Epoch:15\n",
            "-----------\n",
            "Train Loss: 0.3735 | Train Accuracy: 62.38%\n",
            "Test Loss: 0.4425 | Test Accuracy: 41.63%\n",
            "Epoch:16\n",
            "-----------\n",
            "Train Loss: 0.3690 | Train Accuracy: 62.76%\n",
            "Test Loss: 0.4444 | Test Accuracy: 43.22%\n",
            "Epoch:17\n",
            "-----------\n",
            "Train Loss: 0.3678 | Train Accuracy: 62.74%\n",
            "Test Loss: 0.4488 | Test Accuracy: 42.63%\n",
            "Epoch:18\n",
            "-----------\n",
            "Train Loss: 0.3683 | Train Accuracy: 62.61%\n",
            "Test Loss: 0.4611 | Test Accuracy: 42.13%\n",
            "Epoch:19\n",
            "-----------\n",
            "Train Loss: 0.3685 | Train Accuracy: 62.79%\n",
            "Test Loss: 0.5049 | Test Accuracy: 43.24%\n",
            "Epoch:20\n",
            "-----------\n",
            "Train Loss: 0.3639 | Train Accuracy: 63.18%\n",
            "Test Loss: 0.4512 | Test Accuracy: 42.15%\n",
            "Epoch:21\n",
            "-----------\n",
            "Train Loss: 0.3637 | Train Accuracy: 63.08%\n",
            "Test Loss: 0.4570 | Test Accuracy: 41.81%\n",
            "Epoch:22\n",
            "-----------\n",
            "Train Loss: 0.3637 | Train Accuracy: 62.94%\n",
            "Test Loss: 0.4632 | Test Accuracy: 41.63%\n",
            "Epoch:23\n",
            "-----------\n",
            "Train Loss: 0.3635 | Train Accuracy: 63.20%\n",
            "Test Loss: 0.4735 | Test Accuracy: 39.83%\n",
            "Epoch:24\n",
            "-----------\n",
            "Train Loss: 0.3613 | Train Accuracy: 63.24%\n",
            "Test Loss: 0.4685 | Test Accuracy: 42.06%\n"
          ]
        },
        {
          "data": {
            "image/png": "[encoded data removed]",
            "text/plain": [
              "<Figure size 1200x400 with 2 Axes>"
            ]
          },
          "metadata": {},
          "output_type": "display_data"
        },
        {
          "name": "stdout",
          "output_type": "stream",
          "text": [
            "Precision: 0.6289\n",
            "Recall: 0.4995\n",
            "F1 Score: 0.5421\n",
            "Classification Report:\n",
            "              precision    recall  f1-score   support\n",
            "\n",
            "        NORM       0.73      0.78      0.75     48025\n",
            "          MI       0.56      0.28      0.38     27425\n",
            "        STTC       0.61      0.45      0.52     26425\n",
            "          CD       0.65      0.45      0.53     24875\n",
            "         HYP       0.41      0.12      0.18     13350\n",
            "\n",
            "   micro avg       0.66      0.50      0.57    140100\n",
            "   macro avg       0.59      0.42      0.47    140100\n",
            "weighted avg       0.63      0.50      0.54    140100\n",
            " samples avg       0.55      0.53      0.52    140100\n",
            "\n"
          ]
        },
        {
          "name": "stderr",
          "output_type": "stream",
          "text": [
            "c:\\Users\\ROG\\AppData\\Local\\Programs\\Python\\Python310\\lib\\site-packages\\sklearn\\metrics\\_classification.py:1344: UndefinedMetricWarning: Precision and F-score are ill-defined and being set to 0.0 in samples with no predicted labels. Use `zero_division` parameter to control this behavior.\n",
            "  _warn_prf(average, modifier, msg_start, len(result))\n",
            "c:\\Users\\ROG\\AppData\\Local\\Programs\\Python\\Python310\\lib\\site-packages\\sklearn\\metrics\\_classification.py:1344: UndefinedMetricWarning: Recall and F-score are ill-defined and being set to 0.0 in samples with no true labels. Use `zero_division` parameter to control this behavior.\n",
            "  _warn_prf(average, modifier, msg_start, len(result))\n"
          ]
        }
      ],
      "source": [
        "import matplotlib.pyplot as plt\n",
        "from sklearn.metrics import precision_recall_curve, average_precision_score, multilabel_confusion_matrix, classification_report, precision_recall_fscore_support\n",
        "import numpy as np\n",
        "# Import tqdm for progress bar\n",
        "from tqdm.auto import tqdm\n",
        "\n",
        "class_names = ['NORM', 'MI', 'STTC', 'CD', 'HYP']\n",
        "\n",
        "def plot_metrics(train_losses, test_losses, train_accuracies, test_accuracies):\n",
        "    plt.figure(figsize=(12, 4))\n",
        "\n",
        "    plt.subplot(1, 2, 1)\n",
        "    plt.plot(train_losses, label='Train Loss', marker='o')\n",
        "    plt.plot(test_losses, label='Test Loss', marker='o')\n",
        "    plt.title('Loss Over Epochs')\n",
        "    plt.xlabel('Epoch')\n",
        "    plt.ylabel('Loss')\n",
        "    plt.legend()\n",
        "\n",
        "    plt.subplot(1, 2, 2)\n",
        "    plt.plot(train_accuracies, label='Train Accuracy', marker='o')\n",
        "    plt.plot(test_accuracies, label='Test Accuracy', marker='o')\n",
        "    plt.title('Accuracy Over Epochs')\n",
        "    plt.xlabel('Epoch')\n",
        "    plt.ylabel('Accuracy (%)')\n",
        "    plt.legend()\n",
        "\n",
        "    plt.tight_layout()\n",
        "    plt.show()\n",
        "\n",
        "# Initialize empty lists to store training and testing metrics\n",
        "train_losses = []\n",
        "test_losses = []\n",
        "train_accuracies = []\n",
        "test_accuracies = []\n",
        "all_true_labels = []\n",
        "all_pred_scores = []\n",
        "\n",
        "# Training and testing loop\n",
        "epochs = 25\n",
        "for epoch in tqdm(range(epochs)):\n",
        "    print(f\"Epoch:{epoch}\\n-----------\")\n",
        "    train_loss, train_accuracy = train_step(model=model_1,\n",
        "                                            data_loader=train_loader,\n",
        "                                            loss_fn=loss_fn,\n",
        "                                            optimizer=optimizer,\n",
        "                                            device=device)\n",
        "    train_losses.append(train_loss)\n",
        "    train_accuracies.append(train_accuracy)\n",
        "    print(f\"Train Loss: {train_loss:.4f} | Train Accuracy: {train_accuracy:.2f}%\")\n",
        "\n",
        "    test_loss, test_accuracy, true_labels, pred_scores = evaluate_model2(model=model_1,\n",
        "                                                                       data_loader=test_loader,\n",
        "                                                                       loss_fn=loss_fn,\n",
        "                                                                       device=device)\n",
        "    test_losses.append(test_loss)\n",
        "    test_accuracies.append(test_accuracy)\n",
        "    print(f\"Test Loss: {test_loss:.4f} | Test Accuracy: {test_accuracy:.2f}%\")\n",
        "\n",
        "    all_true_labels.extend(true_labels)\n",
        "    all_pred_scores.extend(pred_scores)\n",
        "\n",
        "# Plot training and testing metrics\n",
        "plot_metrics(train_losses, test_losses, train_accuracies, test_accuracies)\n",
        "\n",
        "# Convert predicted scores to binary predictions based on a threshold (e.g., 0.5)\n",
        "threshold = 0.5\n",
        "all_pred_labels = (np.array(all_pred_scores) >= threshold).astype(int)\n",
        "\n",
        "# Calculate and print precision, recall, F1-score, confusion matrix\n",
        "precision, recall, f1_score, _ = precision_recall_fscore_support(all_true_labels, all_pred_labels, average='weighted')\n",
        "\n",
        "print(f\"Precision: {precision:.4f}\")\n",
        "print(f\"Recall: {recall:.4f}\")\n",
        "print(f\"F1 Score: {f1_score:.4f}\")\n",
        "\n",
        "# Print classification report\n",
        "class_report = classification_report(all_true_labels, all_pred_labels, target_names=class_names)\n",
        "print(\"Classification Report:\")\n",
        "print(class_report)\n"
      ]
    },
    {
      "cell_type": "code",
      "execution_count": null,
      "metadata": {
        "id": "JVjMtVGppiRh"
      },
      "outputs": [],
      "source": []
    },
    {
      "cell_type": "code",
      "execution_count": null,
      "metadata": {
        "id": "eji-lm6EpiO4"
      },
      "outputs": [],
      "source": []
    }
  ],
  "metadata": {
    "accelerator": "GPU",
    "colab": {
      "collapsed_sections": [
        "oWJkqR_i6fZx",
        "9zYJaryKzw_s"
      ],
      "gpuType": "T4",
      "provenance": []
    },
    "kernelspec": {
      "display_name": "myenv",
      "language": "python",
      "name": "myenv"
    },
    "language_info": {
      "codemirror_mode": {
        "name": "ipython",
        "version": 3
      },
      "file_extension": ".py",
      "mimetype": "text/x-python",
      "name": "python",
      "nbconvert_exporter": "python",
      "pygments_lexer": "ipython3",
      "version": "3.10.6"
    },
    "widgets": {
      "application/vnd.jupyter.widget-state+json": {
        "0222e1d276fa40778055b2b508eb181c": {
          "model_module": "@jupyter-widgets/controls",
          "model_module_version": "1.5.0",
          "model_name": "HTMLModel",
          "state": {
            "_dom_classes": [],
            "_model_module": "@jupyter-widgets/controls",
            "_model_module_version": "1.5.0",
            "_model_name": "HTMLModel",
            "_view_count": null,
            "_view_module": "@jupyter-widgets/controls",
            "_view_module_version": "1.5.0",
            "_view_name": "HTMLView",
            "description": "",
            "description_tooltip": null,
            "layout": "IPY_MODEL_7a7a6f171fc64313a242afa1d85fdeec",
            "placeholder": "​",
            "style": "IPY_MODEL_fe3c211c146046d6a3a82019edc13904",
            "value": "100%"
          }
        },
        "0c121489a81447be989ba04d55154b96": {
          "model_module": "@jupyter-widgets/controls",
          "model_module_version": "1.5.0",
          "model_name": "HTMLModel",
          "state": {
            "_dom_classes": [],
            "_model_module": "@jupyter-widgets/controls",
            "_model_module_version": "1.5.0",
            "_model_name": "HTMLModel",
            "_view_count": null,
            "_view_module": "@jupyter-widgets/controls",
            "_view_module_version": "1.5.0",
            "_view_name": "HTMLView",
            "description": "",
            "description_tooltip": null,
            "layout": "IPY_MODEL_8a41e940e04548439478bc0dcd84ad1d",
            "placeholder": "​",
            "style": "IPY_MODEL_913030aae0da43459e24ed9dc7f2888f",
            "value": " 25/25 [1:08:14&lt;00:00, 163.46s/it]"
          }
        },
        "379a02ab8a7a468582a62ec8c30c4aa1": {
          "model_module": "@jupyter-widgets/controls",
          "model_module_version": "1.5.0",
          "model_name": "HBoxModel",
          "state": {
            "_dom_classes": [],
            "_model_module": "@jupyter-widgets/controls",
            "_model_module_version": "1.5.0",
            "_model_name": "HBoxModel",
            "_view_count": null,
            "_view_module": "@jupyter-widgets/controls",
            "_view_module_version": "1.5.0",
            "_view_name": "HBoxView",
            "box_style": "",
            "children": [
              "IPY_MODEL_0222e1d276fa40778055b2b508eb181c",
              "IPY_MODEL_e36fda9e35b441a69788d20f9104a429",
              "IPY_MODEL_0c121489a81447be989ba04d55154b96"
            ],
            "layout": "IPY_MODEL_a4438182f7444fe9b1130ee5ae507b05"
          }
        },
        "7a7a6f171fc64313a242afa1d85fdeec": {
          "model_module": "@jupyter-widgets/base",
          "model_module_version": "1.2.0",
          "model_name": "LayoutModel",
          "state": {
            "_model_module": "@jupyter-widgets/base",
            "_model_module_version": "1.2.0",
            "_model_name": "LayoutModel",
            "_view_count": null,
            "_view_module": "@jupyter-widgets/base",
            "_view_module_version": "1.2.0",
            "_view_name": "LayoutView",
            "align_content": null,
            "align_items": null,
            "align_self": null,
            "border": null,
            "bottom": null,
            "display": null,
            "flex": null,
            "flex_flow": null,
            "grid_area": null,
            "grid_auto_columns": null,
            "grid_auto_flow": null,
            "grid_auto_rows": null,
            "grid_column": null,
            "grid_gap": null,
            "grid_row": null,
            "grid_template_areas": null,
            "grid_template_columns": null,
            "grid_template_rows": null,
            "height": null,
            "justify_content": null,
            "justify_items": null,
            "left": null,
            "margin": null,
            "max_height": null,
            "max_width": null,
            "min_height": null,
            "min_width": null,
            "object_fit": null,
            "object_position": null,
            "order": null,
            "overflow": null,
            "overflow_x": null,
            "overflow_y": null,
            "padding": null,
            "right": null,
            "top": null,
            "visibility": null,
            "width": null
          }
        },
        "8a41e940e04548439478bc0dcd84ad1d": {
          "model_module": "@jupyter-widgets/base",
          "model_module_version": "1.2.0",
          "model_name": "LayoutModel",
          "state": {
            "_model_module": "@jupyter-widgets/base",
            "_model_module_version": "1.2.0",
            "_model_name": "LayoutModel",
            "_view_count": null,
            "_view_module": "@jupyter-widgets/base",
            "_view_module_version": "1.2.0",
            "_view_name": "LayoutView",
            "align_content": null,
            "align_items": null,
            "align_self": null,
            "border": null,
            "bottom": null,
            "display": null,
            "flex": null,
            "flex_flow": null,
            "grid_area": null,
            "grid_auto_columns": null,
            "grid_auto_flow": null,
            "grid_auto_rows": null,
            "grid_column": null,
            "grid_gap": null,
            "grid_row": null,
            "grid_template_areas": null,
            "grid_template_columns": null,
            "grid_template_rows": null,
            "height": null,
            "justify_content": null,
            "justify_items": null,
            "left": null,
            "margin": null,
            "max_height": null,
            "max_width": null,
            "min_height": null,
            "min_width": null,
            "object_fit": null,
            "object_position": null,
            "order": null,
            "overflow": null,
            "overflow_x": null,
            "overflow_y": null,
            "padding": null,
            "right": null,
            "top": null,
            "visibility": null,
            "width": null
          }
        },
        "913030aae0da43459e24ed9dc7f2888f": {
          "model_module": "@jupyter-widgets/controls",
          "model_module_version": "1.5.0",
          "model_name": "DescriptionStyleModel",
          "state": {
            "_model_module": "@jupyter-widgets/controls",
            "_model_module_version": "1.5.0",
            "_model_name": "DescriptionStyleModel",
            "_view_count": null,
            "_view_module": "@jupyter-widgets/base",
            "_view_module_version": "1.2.0",
            "_view_name": "StyleView",
            "description_width": ""
          }
        },
        "a4438182f7444fe9b1130ee5ae507b05": {
          "model_module": "@jupyter-widgets/base",
          "model_module_version": "1.2.0",
          "model_name": "LayoutModel",
          "state": {
            "_model_module": "@jupyter-widgets/base",
            "_model_module_version": "1.2.0",
            "_model_name": "LayoutModel",
            "_view_count": null,
            "_view_module": "@jupyter-widgets/base",
            "_view_module_version": "1.2.0",
            "_view_name": "LayoutView",
            "align_content": null,
            "align_items": null,
            "align_self": null,
            "border": null,
            "bottom": null,
            "display": null,
            "flex": null,
            "flex_flow": null,
            "grid_area": null,
            "grid_auto_columns": null,
            "grid_auto_flow": null,
            "grid_auto_rows": null,
            "grid_column": null,
            "grid_gap": null,
            "grid_row": null,
            "grid_template_areas": null,
            "grid_template_columns": null,
            "grid_template_rows": null,
            "height": null,
            "justify_content": null,
            "justify_items": null,
            "left": null,
            "margin": null,
            "max_height": null,
            "max_width": null,
            "min_height": null,
            "min_width": null,
            "object_fit": null,
            "object_position": null,
            "order": null,
            "overflow": null,
            "overflow_x": null,
            "overflow_y": null,
            "padding": null,
            "right": null,
            "top": null,
            "visibility": null,
            "width": null
          }
        },
        "cc16ce12e17c48f4af99f81bf750b982": {
          "model_module": "@jupyter-widgets/controls",
          "model_module_version": "1.5.0",
          "model_name": "ProgressStyleModel",
          "state": {
            "_model_module": "@jupyter-widgets/controls",
            "_model_module_version": "1.5.0",
            "_model_name": "ProgressStyleModel",
            "_view_count": null,
            "_view_module": "@jupyter-widgets/base",
            "_view_module_version": "1.2.0",
            "_view_name": "StyleView",
            "bar_color": null,
            "description_width": ""
          }
        },
        "e36fda9e35b441a69788d20f9104a429": {
          "model_module": "@jupyter-widgets/controls",
          "model_module_version": "1.5.0",
          "model_name": "FloatProgressModel",
          "state": {
            "_dom_classes": [],
            "_model_module": "@jupyter-widgets/controls",
            "_model_module_version": "1.5.0",
            "_model_name": "FloatProgressModel",
            "_view_count": null,
            "_view_module": "@jupyter-widgets/controls",
            "_view_module_version": "1.5.0",
            "_view_name": "ProgressView",
            "bar_style": "success",
            "description": "",
            "description_tooltip": null,
            "layout": "IPY_MODEL_f4a729b40bc9498fbfd680537720f05b",
            "max": 25,
            "min": 0,
            "orientation": "horizontal",
            "style": "IPY_MODEL_cc16ce12e17c48f4af99f81bf750b982",
            "value": 25
          }
        },
        "f4a729b40bc9498fbfd680537720f05b": {
          "model_module": "@jupyter-widgets/base",
          "model_module_version": "1.2.0",
          "model_name": "LayoutModel",
          "state": {
            "_model_module": "@jupyter-widgets/base",
            "_model_module_version": "1.2.0",
            "_model_name": "LayoutModel",
            "_view_count": null,
            "_view_module": "@jupyter-widgets/base",
            "_view_module_version": "1.2.0",
            "_view_name": "LayoutView",
            "align_content": null,
            "align_items": null,
            "align_self": null,
            "border": null,
            "bottom": null,
            "display": null,
            "flex": null,
            "flex_flow": null,
            "grid_area": null,
            "grid_auto_columns": null,
            "grid_auto_flow": null,
            "grid_auto_rows": null,
            "grid_column": null,
            "grid_gap": null,
            "grid_row": null,
            "grid_template_areas": null,
            "grid_template_columns": null,
            "grid_template_rows": null,
            "height": null,
            "justify_content": null,
            "justify_items": null,
            "left": null,
            "margin": null,
            "max_height": null,
            "max_width": null,
            "min_height": null,
            "min_width": null,
            "object_fit": null,
            "object_position": null,
            "order": null,
            "overflow": null,
            "overflow_x": null,
            "overflow_y": null,
            "padding": null,
            "right": null,
            "top": null,
            "visibility": null,
            "width": null
          }
        },
        "fe3c211c146046d6a3a82019edc13904": {
          "model_module": "@jupyter-widgets/controls",
          "model_module_version": "1.5.0",
          "model_name": "DescriptionStyleModel",
          "state": {
            "_model_module": "@jupyter-widgets/controls",
            "_model_module_version": "1.5.0",
            "_model_name": "DescriptionStyleModel",
            "_view_count": null,
            "_view_module": "@jupyter-widgets/base",
            "_view_module_version": "1.2.0",
            "_view_name": "StyleView",
            "description_width": ""
          }
        }
      }
    }
  },
  "nbformat": 4,
  "nbformat_minor": 0
}
